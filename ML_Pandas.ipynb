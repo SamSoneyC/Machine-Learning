{
  "nbformat": 4,
  "nbformat_minor": 0,
  "metadata": {
    "colab": {
      "name": "Untitled1.ipynb",
      "version": "0.3.2",
      "provenance": [],
      "collapsed_sections": [],
      "include_colab_link": true
    },
    "kernelspec": {
      "name": "python3",
      "display_name": "Python 3"
    }
  },
  "cells": [
    {
      "cell_type": "markdown",
      "metadata": {
        "id": "view-in-github",
        "colab_type": "text"
      },
      "source": [
        "<a href=\"https://colab.research.google.com/github/SamSoneyC/Machine-Learning/blob/master/ML_Pandas.ipynb\" target=\"_parent\"><img src=\"https://colab.research.google.com/assets/colab-badge.svg\" alt=\"Open In Colab\"/></a>"
      ]
    },
    {
      "cell_type": "code",
      "metadata": {
        "id": "J-urZoWnuMmB",
        "colab_type": "code",
        "colab": {}
      },
      "source": [
        "import numpy as np"
      ],
      "execution_count": 0,
      "outputs": []
    },
    {
      "cell_type": "code",
      "metadata": {
        "id": "UaRMILtNvCun",
        "colab_type": "code",
        "colab": {}
      },
      "source": [
        "import pandas as pd\n"
      ],
      "execution_count": 0,
      "outputs": []
    },
    {
      "cell_type": "code",
      "metadata": {
        "id": "a1E3zELsvEuy",
        "colab_type": "code",
        "colab": {}
      },
      "source": [
        "s = pd.Series([2, -1, 3, 5])"
      ],
      "execution_count": 0,
      "outputs": []
    },
    {
      "cell_type": "code",
      "metadata": {
        "id": "eqtLvoYIvK2q",
        "colab_type": "code",
        "colab": {
          "base_uri": "https://localhost:8080/",
          "height": 106
        },
        "outputId": "261a0478-b456-42fa-a919-ac4d11e8f820"
      },
      "source": [
        "print(s)"
      ],
      "execution_count": 4,
      "outputs": [
        {
          "output_type": "stream",
          "text": [
            "0    2\n",
            "1   -1\n",
            "2    3\n",
            "3    5\n",
            "dtype: int64\n"
          ],
          "name": "stdout"
        }
      ]
    },
    {
      "cell_type": "code",
      "metadata": {
        "id": "u9kJOx0MvNhG",
        "colab_type": "code",
        "colab": {}
      },
      "source": [
        "s1 = np.exp(s)"
      ],
      "execution_count": 0,
      "outputs": []
    },
    {
      "cell_type": "code",
      "metadata": {
        "id": "-cuzH4FkvRsz",
        "colab_type": "code",
        "colab": {
          "base_uri": "https://localhost:8080/",
          "height": 106
        },
        "outputId": "5f78746a-4a22-45ce-df82-28ff2e74ef68"
      },
      "source": [
        "print(s1)"
      ],
      "execution_count": 7,
      "outputs": [
        {
          "output_type": "stream",
          "text": [
            "0      7.389056\n",
            "1      0.367879\n",
            "2     20.085537\n",
            "3    148.413159\n",
            "dtype: float64\n"
          ],
          "name": "stdout"
        }
      ]
    },
    {
      "cell_type": "code",
      "metadata": {
        "id": "vlLrjigzvW2g",
        "colab_type": "code",
        "colab": {}
      },
      "source": [
        "s_idx = pd.Series([12, 15, 3, 60], index=[\"a\", 2, \"c\", \"d\"])"
      ],
      "execution_count": 0,
      "outputs": []
    },
    {
      "cell_type": "code",
      "metadata": {
        "id": "_fWOKkNivs4X",
        "colab_type": "code",
        "colab": {
          "base_uri": "https://localhost:8080/",
          "height": 106
        },
        "outputId": "4c0519c8-18cd-483f-8d06-724a4498d064"
      },
      "source": [
        "print(s_idx)"
      ],
      "execution_count": 9,
      "outputs": [
        {
          "output_type": "stream",
          "text": [
            "a    12\n",
            "2    15\n",
            "c     3\n",
            "d    60\n",
            "dtype: int64\n"
          ],
          "name": "stdout"
        }
      ]
    },
    {
      "cell_type": "code",
      "metadata": {
        "id": "gjm0aY9xvv4L",
        "colab_type": "code",
        "colab": {
          "base_uri": "https://localhost:8080/",
          "height": 35
        },
        "outputId": "e455ce81-6553-47fb-9be6-dd10ffcb42f2"
      },
      "source": [
        "print(s_idx.iloc[3])"
      ],
      "execution_count": 10,
      "outputs": [
        {
          "output_type": "stream",
          "text": [
            "60\n"
          ],
          "name": "stdout"
        }
      ]
    },
    {
      "cell_type": "code",
      "metadata": {
        "id": "1Hi9tcFkv3H0",
        "colab_type": "code",
        "colab": {}
      },
      "source": [
        "s2 = pd.Series([1000, 1001, 1002, 1003, 1004])"
      ],
      "execution_count": 0,
      "outputs": []
    },
    {
      "cell_type": "code",
      "metadata": {
        "id": "zW_ohMQ5wBez",
        "colab_type": "code",
        "colab": {
          "base_uri": "https://localhost:8080/",
          "height": 124
        },
        "outputId": "8cabfe98-45c8-4d3b-a3ce-5b8370efa26c"
      },
      "source": [
        "print(s2\n",
        "     )"
      ],
      "execution_count": 12,
      "outputs": [
        {
          "output_type": "stream",
          "text": [
            "0    1000\n",
            "1    1001\n",
            "2    1002\n",
            "3    1003\n",
            "4    1004\n",
            "dtype: int64\n"
          ],
          "name": "stdout"
        }
      ]
    },
    {
      "cell_type": "code",
      "metadata": {
        "id": "dJ97lYpuwDdp",
        "colab_type": "code",
        "colab": {}
      },
      "source": [
        "s2_slice = s2[2:]"
      ],
      "execution_count": 0,
      "outputs": []
    },
    {
      "cell_type": "code",
      "metadata": {
        "id": "xSozG2TSwR2C",
        "colab_type": "code",
        "colab": {
          "base_uri": "https://localhost:8080/",
          "height": 88
        },
        "outputId": "de99d92a-b90d-454e-94f1-087ccfa6bdbe"
      },
      "source": [
        "print(s2_slice)"
      ],
      "execution_count": 15,
      "outputs": [
        {
          "output_type": "stream",
          "text": [
            "2    1002\n",
            "3    1003\n",
            "4    1004\n",
            "dtype: int64\n"
          ],
          "name": "stdout"
        }
      ]
    },
    {
      "cell_type": "code",
      "metadata": {
        "id": "kXDspVVRweM0",
        "colab_type": "code",
        "colab": {
          "base_uri": "https://localhost:8080/",
          "height": 35
        },
        "outputId": "15bc5178-869b-4c55-eeec-db2cbd44b915"
      },
      "source": [
        "print(s2_slice.iloc[0])"
      ],
      "execution_count": 17,
      "outputs": [
        {
          "output_type": "stream",
          "text": [
            "1002\n"
          ],
          "name": "stdout"
        }
      ]
    },
    {
      "cell_type": "code",
      "metadata": {
        "id": "8v3_6AUNwjSm",
        "colab_type": "code",
        "colab": {}
      },
      "source": [
        "%matplotlib inline"
      ],
      "execution_count": 0,
      "outputs": []
    },
    {
      "cell_type": "code",
      "metadata": {
        "id": "O5P0rB26xF7v",
        "colab_type": "code",
        "colab": {}
      },
      "source": [
        "import matplotlib.pyplot as plt\n"
      ],
      "execution_count": 0,
      "outputs": []
    },
    {
      "cell_type": "code",
      "metadata": {
        "id": "J_R4eGcgxJhP",
        "colab_type": "code",
        "colab": {}
      },
      "source": [
        "temperatures = [4.4,5.1,6.1,6.2,6.1,6.1,5.7,5.2,4.7,4.1,3.9,3.5]"
      ],
      "execution_count": 0,
      "outputs": []
    },
    {
      "cell_type": "code",
      "metadata": {
        "id": "jciQa5YGxrXD",
        "colab_type": "code",
        "colab": {}
      },
      "source": [
        "temp = pd.Series(temperatures, name=\"Temperature\")"
      ],
      "execution_count": 0,
      "outputs": []
    },
    {
      "cell_type": "code",
      "metadata": {
        "id": "oB6q4Pqcx0JQ",
        "colab_type": "code",
        "colab": {
          "base_uri": "https://localhost:8080/",
          "height": 287
        },
        "outputId": "31cb0c68-a80a-4fef-8b05-6dd512001195"
      },
      "source": [
        "temp.plot()"
      ],
      "execution_count": 23,
      "outputs": [
        {
          "output_type": "execute_result",
          "data": {
            "text/plain": [
              "<matplotlib.axes._subplots.AxesSubplot at 0x7fe6442d1b70>"
            ]
          },
          "metadata": {
            "tags": []
          },
          "execution_count": 23
        },
        {
          "output_type": "display_data",
          "data": {
            "image/png": "[encoded data removed]",
            "text/plain": [
              "<Figure size 432x288 with 1 Axes>"
            ]
          },
          "metadata": {
            "tags": []
          }
        }
      ]
    },
    {
      "cell_type": "code",
      "metadata": {
        "id": "qcEBW9Tox3E6",
        "colab_type": "code",
        "colab": {}
      },
      "source": [
        "plt.show()"
      ],
      "execution_count": 0,
      "outputs": []
    },
    {
      "cell_type": "code",
      "metadata": {
        "id": "_JYMpEk_x7LF",
        "colab_type": "code",
        "colab": {
          "base_uri": "https://localhost:8080/",
          "height": 249
        },
        "outputId": "14faba38-df3f-4c34-825d-8f149adf370f"
      },
      "source": [
        "print(temp)"
      ],
      "execution_count": 25,
      "outputs": [
        {
          "output_type": "stream",
          "text": [
            "0     4.4\n",
            "1     5.1\n",
            "2     6.1\n",
            "3     6.2\n",
            "4     6.1\n",
            "5     6.1\n",
            "6     5.7\n",
            "7     5.2\n",
            "8     4.7\n",
            "9     4.1\n",
            "10    3.9\n",
            "11    3.5\n",
            "Name: Temperature, dtype: float64\n"
          ],
          "name": "stdout"
        }
      ]
    },
    {
      "cell_type": "code",
      "metadata": {
        "id": "gKa8Xf3cyW-d",
        "colab_type": "code",
        "colab": {}
      },
      "source": [
        "people_dict = {\n",
        "    \"weight\": pd.Series([68, 83, 112],\n",
        "            index= [\"alice\", \"bob\", \"charles\"]),\n",
        "    \"birthyear\": pd.Series([1984, 1985, 1992],\n",
        "            index=[\"bob\", \"alice\", \"charles\"],\n",
        "            name=\"year\"),\n",
        "    \"children\": pd.Series([0, 3],\n",
        "            index=[\"charles\", \"bob\"]),\n",
        "    \"hobby\": pd.Series([\"Biking\", \"Dancing\"],\n",
        "            index=[\"alice\", \"bob\"])\n",
        "}"
      ],
      "execution_count": 0,
      "outputs": []
    },
    {
      "cell_type": "code",
      "metadata": {
        "id": "E_PwrS5f_XK-",
        "colab_type": "code",
        "colab": {}
      },
      "source": [
        "people = pd.DataFrame(people_dict)"
      ],
      "execution_count": 0,
      "outputs": []
    },
    {
      "cell_type": "code",
      "metadata": {
        "id": "rz42BcrHBK_v",
        "colab_type": "code",
        "colab": {
          "base_uri": "https://localhost:8080/",
          "height": 88
        },
        "outputId": "0d22aa33-9337-4b50-907d-71e4ddebadb3"
      },
      "source": [
        "print(people)"
      ],
      "execution_count": 33,
      "outputs": [
        {
          "output_type": "stream",
          "text": [
            "         weight  birthyear  children    hobby\n",
            "alice        68       1985       NaN   Biking\n",
            "bob          83       1984       3.0  Dancing\n",
            "charles     112       1992       0.0      NaN\n"
          ],
          "name": "stdout"
        }
      ]
    },
    {
      "cell_type": "code",
      "metadata": {
        "id": "6EWwQlcEBNlv",
        "colab_type": "code",
        "colab": {
          "base_uri": "https://localhost:8080/",
          "height": 88
        },
        "outputId": "d2e10417-a32e-4da3-9c0c-aa18e9e6e0c2"
      },
      "source": [
        "print(people[\"birthyear\"])"
      ],
      "execution_count": 37,
      "outputs": [
        {
          "output_type": "stream",
          "text": [
            "alice      1985\n",
            "bob        1984\n",
            "charles    1992\n",
            "Name: birthyear, dtype: int64\n"
          ],
          "name": "stdout"
        }
      ]
    },
    {
      "cell_type": "code",
      "metadata": {
        "id": "uMvwLJeVBVH4",
        "colab_type": "code",
        "colab": {
          "base_uri": "https://localhost:8080/",
          "height": 88
        },
        "outputId": "95cc3246-af52-46f8-8de7-4112f1d95c95"
      },
      "source": [
        "print(people[[\"birthyear\", \"hobby\"]])"
      ],
      "execution_count": 40,
      "outputs": [
        {
          "output_type": "stream",
          "text": [
            "         birthyear    hobby\n",
            "alice         1985   Biking\n",
            "bob           1984  Dancing\n",
            "charles       1992      NaN\n"
          ],
          "name": "stdout"
        }
      ]
    },
    {
      "cell_type": "code",
      "metadata": {
        "id": "nACZnwjrEDhr",
        "colab_type": "code",
        "colab": {
          "base_uri": "https://localhost:8080/",
          "height": 106
        },
        "outputId": "36a72774-6703-42c6-a677-7af2b85fed1d"
      },
      "source": [
        "print(people.loc[\"charles\"])"
      ],
      "execution_count": 42,
      "outputs": [
        {
          "output_type": "stream",
          "text": [
            "weight        112\n",
            "birthyear    1992\n",
            "children        0\n",
            "hobby         NaN\n",
            "Name: charles, dtype: object\n"
          ],
          "name": "stdout"
        }
      ]
    },
    {
      "cell_type": "code",
      "metadata": {
        "id": "G2sxg9vbEARX",
        "colab_type": "code",
        "colab": {
          "base_uri": "https://localhost:8080/",
          "height": 106
        },
        "outputId": "2aa11688-852e-4d9b-ecdf-b50e2cd724d1"
      },
      "source": [
        "print(people.iloc[2])"
      ],
      "execution_count": 43,
      "outputs": [
        {
          "output_type": "stream",
          "text": [
            "weight        112\n",
            "birthyear    1992\n",
            "children        0\n",
            "hobby         NaN\n",
            "Name: charles, dtype: object\n"
          ],
          "name": "stdout"
        }
      ]
    },
    {
      "cell_type": "code",
      "metadata": {
        "id": "kvZ83sxQENrY",
        "colab_type": "code",
        "colab": {
          "base_uri": "https://localhost:8080/",
          "height": 71
        },
        "outputId": "3f88f719-10a3-4af5-bc46-db474bcef44d"
      },
      "source": [
        "print(people.iloc[1:3])"
      ],
      "execution_count": 44,
      "outputs": [
        {
          "output_type": "stream",
          "text": [
            "         weight  birthyear  children    hobby\n",
            "bob          83       1984       3.0  Dancing\n",
            "charles     112       1992       0.0      NaN\n"
          ],
          "name": "stdout"
        }
      ]
    },
    {
      "cell_type": "code",
      "metadata": {
        "id": "3q7ZguIrG0UY",
        "colab_type": "code",
        "colab": {
          "base_uri": "https://localhost:8080/",
          "height": 71
        },
        "outputId": "9b08e11c-68b9-4cfc-f12b-b076ab58b641"
      },
      "source": [
        "print(people.iloc[1:3,2:])"
      ],
      "execution_count": 45,
      "outputs": [
        {
          "output_type": "stream",
          "text": [
            "         children    hobby\n",
            "bob           3.0  Dancing\n",
            "charles       0.0      NaN\n"
          ],
          "name": "stdout"
        }
      ]
    },
    {
      "cell_type": "code",
      "metadata": {
        "id": "I807hkYmG4pG",
        "colab_type": "code",
        "colab": {}
      },
      "source": [
        "people[\"age\"]=2019-people[\"birthyear\"]"
      ],
      "execution_count": 0,
      "outputs": []
    },
    {
      "cell_type": "code",
      "metadata": {
        "id": "yqUuHblpHQGU",
        "colab_type": "code",
        "colab": {
          "base_uri": "https://localhost:8080/",
          "height": 88
        },
        "outputId": "110f059f-4773-481a-94a3-c2293113c255"
      },
      "source": [
        "print(people\n",
        "     )"
      ],
      "execution_count": 47,
      "outputs": [
        {
          "output_type": "stream",
          "text": [
            "         weight  birthyear  children    hobby  age\n",
            "alice        68       1985       NaN   Biking   34\n",
            "bob          83       1984       3.0  Dancing   35\n",
            "charles     112       1992       0.0      NaN   27\n"
          ],
          "name": "stdout"
        }
      ]
    },
    {
      "cell_type": "code",
      "metadata": {
        "id": "A8lZ09eKHSL0",
        "colab_type": "code",
        "colab": {}
      },
      "source": [
        ""
      ],
      "execution_count": 0,
      "outputs": []
    }
  ]
}